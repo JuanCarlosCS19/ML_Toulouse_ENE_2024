{
 "cells": [
  {
   "cell_type": "code",
   "execution_count": 1,
   "metadata": {},
   "outputs": [
    {
     "data": {
      "text/html": [
       "<div>\n",
       "<style scoped>\n",
       "    .dataframe tbody tr th:only-of-type {\n",
       "        vertical-align: middle;\n",
       "    }\n",
       "\n",
       "    .dataframe tbody tr th {\n",
       "        vertical-align: top;\n",
       "    }\n",
       "\n",
       "    .dataframe thead th {\n",
       "        text-align: right;\n",
       "    }\n",
       "</style>\n",
       "<table border=\"1\" class=\"dataframe\">\n",
       "  <thead>\n",
       "    <tr style=\"text-align: right;\">\n",
       "      <th></th>\n",
       "      <th>superviviente</th>\n",
       "      <th>clase_billete</th>\n",
       "      <th>genero</th>\n",
       "      <th>edad</th>\n",
       "      <th>n_hermanos_esposos</th>\n",
       "      <th>n_hijos_padres</th>\n",
       "      <th>precio_billete</th>\n",
       "      <th>puerto_salida</th>\n",
       "    </tr>\n",
       "  </thead>\n",
       "  <tbody>\n",
       "    <tr>\n",
       "      <th>0</th>\n",
       "      <td>0</td>\n",
       "      <td>3</td>\n",
       "      <td>hombre</td>\n",
       "      <td>22.0</td>\n",
       "      <td>1</td>\n",
       "      <td>0</td>\n",
       "      <td>7.2500</td>\n",
       "      <td>S</td>\n",
       "    </tr>\n",
       "    <tr>\n",
       "      <th>1</th>\n",
       "      <td>1</td>\n",
       "      <td>1</td>\n",
       "      <td>mujer</td>\n",
       "      <td>38.0</td>\n",
       "      <td>1</td>\n",
       "      <td>0</td>\n",
       "      <td>71.2833</td>\n",
       "      <td>C</td>\n",
       "    </tr>\n",
       "    <tr>\n",
       "      <th>2</th>\n",
       "      <td>1</td>\n",
       "      <td>3</td>\n",
       "      <td>mujer</td>\n",
       "      <td>26.0</td>\n",
       "      <td>0</td>\n",
       "      <td>0</td>\n",
       "      <td>7.9250</td>\n",
       "      <td>S</td>\n",
       "    </tr>\n",
       "    <tr>\n",
       "      <th>3</th>\n",
       "      <td>1</td>\n",
       "      <td>1</td>\n",
       "      <td>mujer</td>\n",
       "      <td>35.0</td>\n",
       "      <td>1</td>\n",
       "      <td>0</td>\n",
       "      <td>53.1000</td>\n",
       "      <td>S</td>\n",
       "    </tr>\n",
       "    <tr>\n",
       "      <th>4</th>\n",
       "      <td>0</td>\n",
       "      <td>3</td>\n",
       "      <td>hombre</td>\n",
       "      <td>35.0</td>\n",
       "      <td>0</td>\n",
       "      <td>0</td>\n",
       "      <td>8.0500</td>\n",
       "      <td>S</td>\n",
       "    </tr>\n",
       "  </tbody>\n",
       "</table>\n",
       "</div>"
      ],
      "text/plain": [
       "   superviviente  clase_billete  genero  edad  n_hermanos_esposos  \\\n",
       "0              0              3  hombre  22.0                   1   \n",
       "1              1              1   mujer  38.0                   1   \n",
       "2              1              3   mujer  26.0                   0   \n",
       "3              1              1   mujer  35.0                   1   \n",
       "4              0              3  hombre  35.0                   0   \n",
       "\n",
       "   n_hijos_padres  precio_billete puerto_salida  \n",
       "0               0          7.2500             S  \n",
       "1               0         71.2833             C  \n",
       "2               0          7.9250             S  \n",
       "3               0         53.1000             S  \n",
       "4               0          8.0500             S  "
      ]
     },
     "execution_count": 1,
     "metadata": {},
     "output_type": "execute_result"
    }
   ],
   "source": [
    "\n",
    "\n",
    "'''\n",
    "Los algoritmos de creación de árboles están en el submódulo de sklearn.tree\n",
    "\n",
    "En cuanto al tipo de algoritmo para crear árboles, scikit-learn usa una versión\n",
    "optimizada del algoritmo CART (Classification and Regression Trees), que permite \n",
    "usar árboles de decisión tanto para problemas de clasificación como de regresión.\n",
    "'''\n",
    "\n",
    "import os\n",
    "import pandas as pd\n",
    "import numpy as np\n",
    "\n",
    "\n",
    "\n",
    "\n",
    "\n",
    "#%%\n",
    "url = \"https://raw.githubusercontent.com/JuanCarlosCS19/ML_Toulouse_ENE_2024/main/Clase2/titanic.csv\"\n",
    "mi_data = pd.read_csv(url)\n",
    "mi_data.head()"
   ]
  },
  {
   "cell_type": "code",
   "execution_count": 2,
   "metadata": {},
   "outputs": [],
   "source": [
    "\n",
    "#%%\n",
    "\n",
    "from sklearn import tree\n",
    "from sklearn.model_selection import cross_val_score\n",
    "\n",
    "#%%\n",
    "\n",
    "columnas_categoricas = [\"genero\", \"puerto_salida\"]\n",
    "datos_categoricos = pd.get_dummies(mi_data[columnas_categoricas])\n",
    "\n",
    "\n"
   ]
  },
  {
   "cell_type": "code",
   "execution_count": 3,
   "metadata": {},
   "outputs": [
    {
     "data": {
      "text/html": [
       "<div>\n",
       "<style scoped>\n",
       "    .dataframe tbody tr th:only-of-type {\n",
       "        vertical-align: middle;\n",
       "    }\n",
       "\n",
       "    .dataframe tbody tr th {\n",
       "        vertical-align: top;\n",
       "    }\n",
       "\n",
       "    .dataframe thead th {\n",
       "        text-align: right;\n",
       "    }\n",
       "</style>\n",
       "<table border=\"1\" class=\"dataframe\">\n",
       "  <thead>\n",
       "    <tr style=\"text-align: right;\">\n",
       "      <th></th>\n",
       "      <th>superviviente</th>\n",
       "      <th>clase_billete</th>\n",
       "      <th>edad</th>\n",
       "      <th>n_hermanos_esposos</th>\n",
       "      <th>n_hijos_padres</th>\n",
       "      <th>precio_billete</th>\n",
       "      <th>genero_hombre</th>\n",
       "      <th>genero_mujer</th>\n",
       "      <th>puerto_salida_C</th>\n",
       "      <th>puerto_salida_Q</th>\n",
       "      <th>puerto_salida_S</th>\n",
       "    </tr>\n",
       "  </thead>\n",
       "  <tbody>\n",
       "    <tr>\n",
       "      <th>0</th>\n",
       "      <td>0</td>\n",
       "      <td>3</td>\n",
       "      <td>22.000000</td>\n",
       "      <td>1</td>\n",
       "      <td>0</td>\n",
       "      <td>7.2500</td>\n",
       "      <td>1</td>\n",
       "      <td>0</td>\n",
       "      <td>0</td>\n",
       "      <td>0</td>\n",
       "      <td>1</td>\n",
       "    </tr>\n",
       "    <tr>\n",
       "      <th>1</th>\n",
       "      <td>1</td>\n",
       "      <td>1</td>\n",
       "      <td>38.000000</td>\n",
       "      <td>1</td>\n",
       "      <td>0</td>\n",
       "      <td>71.2833</td>\n",
       "      <td>0</td>\n",
       "      <td>1</td>\n",
       "      <td>1</td>\n",
       "      <td>0</td>\n",
       "      <td>0</td>\n",
       "    </tr>\n",
       "    <tr>\n",
       "      <th>2</th>\n",
       "      <td>1</td>\n",
       "      <td>3</td>\n",
       "      <td>26.000000</td>\n",
       "      <td>0</td>\n",
       "      <td>0</td>\n",
       "      <td>7.9250</td>\n",
       "      <td>0</td>\n",
       "      <td>1</td>\n",
       "      <td>0</td>\n",
       "      <td>0</td>\n",
       "      <td>1</td>\n",
       "    </tr>\n",
       "    <tr>\n",
       "      <th>3</th>\n",
       "      <td>1</td>\n",
       "      <td>1</td>\n",
       "      <td>35.000000</td>\n",
       "      <td>1</td>\n",
       "      <td>0</td>\n",
       "      <td>53.1000</td>\n",
       "      <td>0</td>\n",
       "      <td>1</td>\n",
       "      <td>0</td>\n",
       "      <td>0</td>\n",
       "      <td>1</td>\n",
       "    </tr>\n",
       "    <tr>\n",
       "      <th>4</th>\n",
       "      <td>0</td>\n",
       "      <td>3</td>\n",
       "      <td>35.000000</td>\n",
       "      <td>0</td>\n",
       "      <td>0</td>\n",
       "      <td>8.0500</td>\n",
       "      <td>1</td>\n",
       "      <td>0</td>\n",
       "      <td>0</td>\n",
       "      <td>0</td>\n",
       "      <td>1</td>\n",
       "    </tr>\n",
       "    <tr>\n",
       "      <th>...</th>\n",
       "      <td>...</td>\n",
       "      <td>...</td>\n",
       "      <td>...</td>\n",
       "      <td>...</td>\n",
       "      <td>...</td>\n",
       "      <td>...</td>\n",
       "      <td>...</td>\n",
       "      <td>...</td>\n",
       "      <td>...</td>\n",
       "      <td>...</td>\n",
       "      <td>...</td>\n",
       "    </tr>\n",
       "    <tr>\n",
       "      <th>886</th>\n",
       "      <td>0</td>\n",
       "      <td>2</td>\n",
       "      <td>27.000000</td>\n",
       "      <td>0</td>\n",
       "      <td>0</td>\n",
       "      <td>13.0000</td>\n",
       "      <td>1</td>\n",
       "      <td>0</td>\n",
       "      <td>0</td>\n",
       "      <td>0</td>\n",
       "      <td>1</td>\n",
       "    </tr>\n",
       "    <tr>\n",
       "      <th>887</th>\n",
       "      <td>1</td>\n",
       "      <td>1</td>\n",
       "      <td>19.000000</td>\n",
       "      <td>0</td>\n",
       "      <td>0</td>\n",
       "      <td>30.0000</td>\n",
       "      <td>0</td>\n",
       "      <td>1</td>\n",
       "      <td>0</td>\n",
       "      <td>0</td>\n",
       "      <td>1</td>\n",
       "    </tr>\n",
       "    <tr>\n",
       "      <th>888</th>\n",
       "      <td>0</td>\n",
       "      <td>3</td>\n",
       "      <td>29.699118</td>\n",
       "      <td>1</td>\n",
       "      <td>2</td>\n",
       "      <td>23.4500</td>\n",
       "      <td>0</td>\n",
       "      <td>1</td>\n",
       "      <td>0</td>\n",
       "      <td>0</td>\n",
       "      <td>1</td>\n",
       "    </tr>\n",
       "    <tr>\n",
       "      <th>889</th>\n",
       "      <td>1</td>\n",
       "      <td>1</td>\n",
       "      <td>26.000000</td>\n",
       "      <td>0</td>\n",
       "      <td>0</td>\n",
       "      <td>30.0000</td>\n",
       "      <td>1</td>\n",
       "      <td>0</td>\n",
       "      <td>1</td>\n",
       "      <td>0</td>\n",
       "      <td>0</td>\n",
       "    </tr>\n",
       "    <tr>\n",
       "      <th>890</th>\n",
       "      <td>0</td>\n",
       "      <td>3</td>\n",
       "      <td>32.000000</td>\n",
       "      <td>0</td>\n",
       "      <td>0</td>\n",
       "      <td>7.7500</td>\n",
       "      <td>1</td>\n",
       "      <td>0</td>\n",
       "      <td>0</td>\n",
       "      <td>1</td>\n",
       "      <td>0</td>\n",
       "    </tr>\n",
       "  </tbody>\n",
       "</table>\n",
       "<p>891 rows × 11 columns</p>\n",
       "</div>"
      ],
      "text/plain": [
       "     superviviente  clase_billete       edad  n_hermanos_esposos  \\\n",
       "0                0              3  22.000000                   1   \n",
       "1                1              1  38.000000                   1   \n",
       "2                1              3  26.000000                   0   \n",
       "3                1              1  35.000000                   1   \n",
       "4                0              3  35.000000                   0   \n",
       "..             ...            ...        ...                 ...   \n",
       "886              0              2  27.000000                   0   \n",
       "887              1              1  19.000000                   0   \n",
       "888              0              3  29.699118                   1   \n",
       "889              1              1  26.000000                   0   \n",
       "890              0              3  32.000000                   0   \n",
       "\n",
       "     n_hijos_padres  precio_billete  genero_hombre  genero_mujer  \\\n",
       "0                 0          7.2500              1             0   \n",
       "1                 0         71.2833              0             1   \n",
       "2                 0          7.9250              0             1   \n",
       "3                 0         53.1000              0             1   \n",
       "4                 0          8.0500              1             0   \n",
       "..              ...             ...            ...           ...   \n",
       "886               0         13.0000              1             0   \n",
       "887               0         30.0000              0             1   \n",
       "888               2         23.4500              0             1   \n",
       "889               0         30.0000              1             0   \n",
       "890               0          7.7500              1             0   \n",
       "\n",
       "     puerto_salida_C  puerto_salida_Q  puerto_salida_S  \n",
       "0                  0                0                1  \n",
       "1                  1                0                0  \n",
       "2                  0                0                1  \n",
       "3                  0                0                1  \n",
       "4                  0                0                1  \n",
       "..               ...              ...              ...  \n",
       "886                0                0                1  \n",
       "887                0                0                1  \n",
       "888                0                0                1  \n",
       "889                1                0                0  \n",
       "890                0                1                0  \n",
       "\n",
       "[891 rows x 11 columns]"
      ]
     },
     "execution_count": 3,
     "metadata": {},
     "output_type": "execute_result"
    }
   ],
   "source": [
    "#%%\n",
    "pasajeros = (\n",
    "    pd.concat([\n",
    "        mi_data.drop(columnas_categoricas, axis=1),\n",
    "        datos_categoricos\n",
    "    ],axis=1\n",
    "    )\n",
    ")\n",
    "\n",
    "#%%\n",
    "pasajeros.edad = pasajeros.edad.fillna(pasajeros.edad.mean())\n",
    "pasajeros"
   ]
  },
  {
   "cell_type": "code",
   "execution_count": 4,
   "metadata": {},
   "outputs": [
    {
     "data": {
      "text/plain": [
       "Index(['superviviente', 'clase_billete', 'edad', 'n_hermanos_esposos',\n",
       "       'n_hijos_padres', 'precio_billete', 'genero_hombre', 'genero_mujer',\n",
       "       'puerto_salida_C', 'puerto_salida_Q', 'puerto_salida_S'],\n",
       "      dtype='object')"
      ]
     },
     "execution_count": 4,
     "metadata": {},
     "output_type": "execute_result"
    }
   ],
   "source": [
    "pasajeros.columns"
   ]
  },
  {
   "cell_type": "code",
   "execution_count": 5,
   "metadata": {},
   "outputs": [
    {
     "data": {
      "text/plain": [
       "0.7822191697191696"
      ]
     },
     "execution_count": 5,
     "metadata": {},
     "output_type": "execute_result"
    }
   ],
   "source": [
    "#%%\n",
    "import graphviz\n",
    "\n",
    "variable_objetivo = pasajeros[\"superviviente\"]\n",
    "variables_independientes = pasajeros[['clase_billete', 'edad', 'n_hermanos_esposos',\n",
    "       'n_hijos_padres', 'precio_billete', 'genero_hombre', 'genero_mujer',\n",
    "       'puerto_salida_C', 'puerto_salida_Q', 'puerto_salida_S']]\n",
    "\n",
    "\n",
    "#%%\n",
    "arbol = tree.DecisionTreeClassifier() \n",
    "arbol.fit(variables_independientes, variable_objetivo)\n",
    "\n",
    "#%%\n",
    "cross_val_score(arbol,\n",
    "                variables_independientes, \n",
    "                variable_objetivo, \n",
    "                scoring=\"roc_auc\", \n",
    "                cv=40).mean()\n",
    "\n",
    "\n",
    "\n",
    "\n"
   ]
  },
  {
   "cell_type": "code",
   "execution_count": null,
   "metadata": {},
   "outputs": [],
   "source": [
    "#%%\n",
    "\n",
    "os.environ[\"PATH\"] = os.pathsep + \"C:\\\\Program Files\\\\Graphviz\\\\bin\"\n",
    "\n",
    "def dibujar_arbol(arbol):\n",
    "    dot_data = tree.export_graphviz(arbol, out_file=None,\n",
    "                                    feature_names=pasajeros.drop(\"superviviente\",axis=1).columns,\n",
    "                                    class_names = pasajeros.superviviente.astype(str),\n",
    "                                    filled=True # Reemplaza con tu ruta exacta\n",
    "                                    )\n",
    "    graph = graphviz.Source(dot_data)\n",
    "    graph.format = \"png\"\n",
    "    graph.render(\"arbol\", view=True)\n",
    "\n",
    "dibujar_arbol(arbol)\n"
   ]
  },
  {
   "cell_type": "code",
   "execution_count": 16,
   "metadata": {},
   "outputs": [
    {
     "name": "stdout",
     "output_type": "stream",
     "text": [
      "Graphviz está instalado en: C:\\Program Files\\Graphviz\\bin\\dot.EXE\n"
     ]
    }
   ],
   "source": [
    "import shutil\n",
    "\n",
    "def find_graphviz_executable():\n",
    "    # Buscar el ejecutable 'dot' en el PATH\n",
    "    graphviz_executable = shutil.which('dot')\n",
    "    \n",
    "    if graphviz_executable:\n",
    "        print(f\"Graphviz está instalado en: {graphviz_executable}\")\n",
    "    else:\n",
    "        print(\"Graphviz no está instalado o no se encuentra en el PATH.\")\n",
    "\n",
    "find_graphviz_executable()\n",
    "\n",
    "# https://graphviz.org/download/"
   ]
  },
  {
   "cell_type": "code",
   "execution_count": 25,
   "metadata": {},
   "outputs": [],
   "source": [
    "#%%\n",
    "\n",
    "'''\n",
    "Se puede exportar el árbol y abrirlo posteriormente con graphviz desde la terminal\n",
    "(o desde la página http://webgraphviz.com/ que renderiza archivos de graphviz)\n",
    "'''\n",
    "\n",
    "tree.export_graphviz(arbol, out_file=\"arbol.dot\",\n",
    "                     feature_names=pasajeros.drop(\"superviviente\",axis=1).columns,\n",
    "                     class_names = pasajeros.superviviente.astype(str),\n",
    "                     filled=True)\n",
    "\n",
    "\n",
    "## webgraphviz.com\n",
    "\n"
   ]
  },
  {
   "cell_type": "code",
   "execution_count": 26,
   "metadata": {},
   "outputs": [
    {
     "data": {
      "text/plain": [
       "[(0.30933518862833864, 'genero_mujer'),\n",
       " (0.25056951628416063, 'edad'),\n",
       " (0.23194335616269016, 'precio_billete'),\n",
       " (0.1094608741944015, 'clase_billete'),\n",
       " (0.049830435730651476, 'n_hermanos_esposos'),\n",
       " (0.028825789772450237, 'n_hijos_padres'),\n",
       " (0.009770634925298833, 'puerto_salida_S'),\n",
       " (0.005645800696061534, 'puerto_salida_Q'),\n",
       " (0.004618403605946912, 'puerto_salida_C'),\n",
       " (0.0, 'genero_hombre')]"
      ]
     },
     "execution_count": 26,
     "metadata": {},
     "output_type": "execute_result"
    }
   ],
   "source": [
    "#%%\n",
    "\n",
    "'''Podemos ver también cuáles son las variables más importantes'''\n",
    "\n",
    "dict(zip(\n",
    "    pasajeros.drop(\"superviviente\", axis=1),\n",
    "    arbol.feature_importances_\n",
    "))\n",
    "\n",
    "\n",
    "sorted(zip(\n",
    "    arbol.feature_importances_,\n",
    "    pasajeros.drop(\"superviviente\", axis=1)), \n",
    "    reverse = True)\n",
    "\n"
   ]
  },
  {
   "cell_type": "code",
   "execution_count": 27,
   "metadata": {},
   "outputs": [
    {
     "data": {
      "text/plain": [
       "array([0], dtype=int64)"
      ]
     },
     "execution_count": 27,
     "metadata": {},
     "output_type": "execute_result"
    }
   ],
   "source": [
    "#%%\n",
    "\n",
    "variables_independientes.iloc[0]\n",
    "\n",
    "pasajero_nvo = pd.DataFrame(\n",
    "    {'clase_billete': [3.],\n",
    "     'edad': [22.],\n",
    "     'n_hermanos_esposos': [1.],\n",
    "     'n_hijos_padres': [0.],\n",
    "     'precio_billete': [7.25],\n",
    "     'genero_hombre': [1.],\n",
    "     'genero_mujer': [0.],\n",
    "     'puerto_salida_C': [0.],\n",
    "     'puerto_salida_Q': [0.],\n",
    "     'puerto_salida_S': [1.]\n",
    "     }\n",
    "    )\n",
    "\n",
    "arbol.predict(pasajero_nvo)\n",
    "\n",
    "#%%"
   ]
  },
  {
   "cell_type": "code",
   "execution_count": 28,
   "metadata": {},
   "outputs": [
    {
     "data": {
      "text/html": [
       "<style>#sk-container-id-1 {color: black;}#sk-container-id-1 pre{padding: 0;}#sk-container-id-1 div.sk-toggleable {background-color: white;}#sk-container-id-1 label.sk-toggleable__label {cursor: pointer;display: block;width: 100%;margin-bottom: 0;padding: 0.3em;box-sizing: border-box;text-align: center;}#sk-container-id-1 label.sk-toggleable__label-arrow:before {content: \"▸\";float: left;margin-right: 0.25em;color: #696969;}#sk-container-id-1 label.sk-toggleable__label-arrow:hover:before {color: black;}#sk-container-id-1 div.sk-estimator:hover label.sk-toggleable__label-arrow:before {color: black;}#sk-container-id-1 div.sk-toggleable__content {max-height: 0;max-width: 0;overflow: hidden;text-align: left;background-color: #f0f8ff;}#sk-container-id-1 div.sk-toggleable__content pre {margin: 0.2em;color: black;border-radius: 0.25em;background-color: #f0f8ff;}#sk-container-id-1 input.sk-toggleable__control:checked~div.sk-toggleable__content {max-height: 200px;max-width: 100%;overflow: auto;}#sk-container-id-1 input.sk-toggleable__control:checked~label.sk-toggleable__label-arrow:before {content: \"▾\";}#sk-container-id-1 div.sk-estimator input.sk-toggleable__control:checked~label.sk-toggleable__label {background-color: #d4ebff;}#sk-container-id-1 div.sk-label input.sk-toggleable__control:checked~label.sk-toggleable__label {background-color: #d4ebff;}#sk-container-id-1 input.sk-hidden--visually {border: 0;clip: rect(1px 1px 1px 1px);clip: rect(1px, 1px, 1px, 1px);height: 1px;margin: -1px;overflow: hidden;padding: 0;position: absolute;width: 1px;}#sk-container-id-1 div.sk-estimator {font-family: monospace;background-color: #f0f8ff;border: 1px dotted black;border-radius: 0.25em;box-sizing: border-box;margin-bottom: 0.5em;}#sk-container-id-1 div.sk-estimator:hover {background-color: #d4ebff;}#sk-container-id-1 div.sk-parallel-item::after {content: \"\";width: 100%;border-bottom: 1px solid gray;flex-grow: 1;}#sk-container-id-1 div.sk-label:hover label.sk-toggleable__label {background-color: #d4ebff;}#sk-container-id-1 div.sk-serial::before {content: \"\";position: absolute;border-left: 1px solid gray;box-sizing: border-box;top: 0;bottom: 0;left: 50%;z-index: 0;}#sk-container-id-1 div.sk-serial {display: flex;flex-direction: column;align-items: center;background-color: white;padding-right: 0.2em;padding-left: 0.2em;position: relative;}#sk-container-id-1 div.sk-item {position: relative;z-index: 1;}#sk-container-id-1 div.sk-parallel {display: flex;align-items: stretch;justify-content: center;background-color: white;position: relative;}#sk-container-id-1 div.sk-item::before, #sk-container-id-1 div.sk-parallel-item::before {content: \"\";position: absolute;border-left: 1px solid gray;box-sizing: border-box;top: 0;bottom: 0;left: 50%;z-index: -1;}#sk-container-id-1 div.sk-parallel-item {display: flex;flex-direction: column;z-index: 1;position: relative;background-color: white;}#sk-container-id-1 div.sk-parallel-item:first-child::after {align-self: flex-end;width: 50%;}#sk-container-id-1 div.sk-parallel-item:last-child::after {align-self: flex-start;width: 50%;}#sk-container-id-1 div.sk-parallel-item:only-child::after {width: 0;}#sk-container-id-1 div.sk-dashed-wrapped {border: 1px dashed gray;margin: 0 0.4em 0.5em 0.4em;box-sizing: border-box;padding-bottom: 0.4em;background-color: white;}#sk-container-id-1 div.sk-label label {font-family: monospace;font-weight: bold;display: inline-block;line-height: 1.2em;}#sk-container-id-1 div.sk-label-container {text-align: center;}#sk-container-id-1 div.sk-container {/* jupyter's `normalize.less` sets `[hidden] { display: none; }` but bootstrap.min.css set `[hidden] { display: none !important; }` so we also need the `!important` here to be able to override the default hidden behavior on the sphinx rendered scikit-learn.org. See: https://github.com/scikit-learn/scikit-learn/issues/21755 */display: inline-block !important;position: relative;}#sk-container-id-1 div.sk-text-repr-fallback {display: none;}</style><div id=\"sk-container-id-1\" class=\"sk-top-container\"><div class=\"sk-text-repr-fallback\"><pre>DecisionTreeClassifier(max_depth=3)</pre><b>In a Jupyter environment, please rerun this cell to show the HTML representation or trust the notebook. <br />On GitHub, the HTML representation is unable to render, please try loading this page with nbviewer.org.</b></div><div class=\"sk-container\" hidden><div class=\"sk-item\"><div class=\"sk-estimator sk-toggleable\"><input class=\"sk-toggleable__control sk-hidden--visually\" id=\"sk-estimator-id-1\" type=\"checkbox\" checked><label for=\"sk-estimator-id-1\" class=\"sk-toggleable__label sk-toggleable__label-arrow\">DecisionTreeClassifier</label><div class=\"sk-toggleable__content\"><pre>DecisionTreeClassifier(max_depth=3)</pre></div></div></div></div></div>"
      ],
      "text/plain": [
       "DecisionTreeClassifier(max_depth=3)"
      ]
     },
     "execution_count": 28,
     "metadata": {},
     "output_type": "execute_result"
    }
   ],
   "source": [
    "\n",
    "'''\n",
    "Éstos son los parámetros más importantes para los modelos DecisionTreeClassifier \n",
    "de sklearn:\n",
    "\n",
    "criterion : El criterio para calcular la reducción de impureza (ganancia de información) \n",
    "al hacer una partición. Se puede elegir entre gini, o entropy\n",
    "\n",
    "max_depth : La profundidad máxima del árbol. Definimos profundidad como el número \n",
    "de nodos que atraviesa una observación (cuantas \"preguntas\" se le hacen).\n",
    "\n",
    "max_features: El máximo numero de particiones potenciales que se consideran al \n",
    "evaluar un nodo.\n",
    "\n",
    "max_leaf_nodes : Límite de hojas para el árbol.\n",
    "\n",
    "min_impurity_decrease : la ganancia de información mínima en un nodo para hacer \n",
    "una partición. (Si no hay ninguna partición que cumpla este criterio, se para el \n",
    "                desarrollo del árbol en dicho nodo).\n",
    "\n",
    "class_weight : Para clases imbalanceadas, podemos pasar el argumento class_weight, \n",
    "como un diccionario de {clase: peso} para que sklearn tenga en cuenta los pesos. \n",
    "Alternativamente, podemos pasar el string balanced para que sklearn genere pesos \n",
    "en función del número de muestras de cada clase.\n",
    "'''\n",
    "\n",
    "'''\n",
    "Control del máximo de profundidad\n",
    "'''\n",
    "\n",
    "arbol_simple = tree.DecisionTreeClassifier(max_depth=3)\n",
    "arbol_simple.fit(variables_independientes, variable_objetivo)\n"
   ]
  },
  {
   "cell_type": "code",
   "execution_count": 29,
   "metadata": {},
   "outputs": [],
   "source": [
    "\n",
    "\n",
    "dibujar_arbol(arbol_simple)\n"
   ]
  },
  {
   "cell_type": "code",
   "execution_count": 30,
   "metadata": {},
   "outputs": [
    {
     "data": {
      "text/plain": [
       "0.8480444902319902"
      ]
     },
     "execution_count": 30,
     "metadata": {},
     "output_type": "execute_result"
    }
   ],
   "source": [
    "cross_val_score(arbol_simple,\n",
    "                variables_independientes, \n",
    "                variable_objetivo, \n",
    "                scoring=\"roc_auc\", \n",
    "                cv=40).mean()"
   ]
  },
  {
   "cell_type": "code",
   "execution_count": 31,
   "metadata": {},
   "outputs": [
    {
     "name": "stdout",
     "output_type": "stream",
     "text": [
      "(3, 0.8502134227428346)\n",
      "(4, 0.8608540587952354)\n",
      "(5, 0.8438866253572137)\n",
      "(6, 0.8282831395184337)\n",
      "(7, 0.8342171009818069)\n",
      "(8, 0.8158888888888889)\n",
      "(9, 0.8126814927991399)\n",
      "(10, 0.807311829782418)\n",
      "(11, 0.7986367314602608)\n",
      "(12, 0.7873871770930594)\n",
      "(13, 0.7709972271736978)\n",
      "(14, 0.7785628837393543)\n",
      "(15, 0.771696347225759)\n",
      "(16, 0.7728170783464902)\n",
      "(17, 0.7791547123900064)\n",
      "(18, 0.7749465240641711)\n",
      "(19, 0.7713755764932235)\n",
      "(20, 0.7738375350140055)\n"
     ]
    }
   ],
   "source": [
    "\n",
    "for k in range(3,21):\n",
    "    arbol_simple = tree.DecisionTreeClassifier(max_depth=k)\n",
    "    arbol_simple.fit(pasajeros.drop(\"superviviente\", axis=1), pasajeros.superviviente)\n",
    "    calificacion = cross_val_score(arbol_simple, pasajeros.drop(\"superviviente\", axis=1), \n",
    "                pasajeros.superviviente, scoring=\"roc_auc\", cv=10).mean()\n",
    "    print(f\"{(k,calificacion)}\")\n",
    "\n"
   ]
  },
  {
   "cell_type": "code",
   "execution_count": 33,
   "metadata": {},
   "outputs": [
    {
     "data": {
      "text/plain": [
       "0.8507758254817078"
      ]
     },
     "execution_count": 33,
     "metadata": {},
     "output_type": "execute_result"
    }
   ],
   "source": [
    "#%%\n",
    "'''\n",
    "balanceo\n",
    "'''\n",
    "\n",
    "arbol_balanceado = tree.DecisionTreeClassifier(max_depth=4, class_weight=\"balanced\")\n",
    "arbol_balanceado.fit(pasajeros.drop(\"superviviente\", axis=1), pasajeros.superviviente)\n",
    "dibujar_arbol(arbol_balanceado)\n",
    "\n",
    "cross_val_score(arbol_balanceado, pasajeros.drop(\"superviviente\", axis=1), \n",
    "                pasajeros.superviviente, scoring=\"roc_auc\", cv=10).mean()\n",
    "\n"
   ]
  },
  {
   "cell_type": "code",
   "execution_count": 34,
   "metadata": {},
   "outputs": [],
   "source": [
    "#%%\n",
    "\n",
    "'''\n",
    "Además del algoritmo CART para generar árboles, scikit-learn también proporciona \n",
    "una clase de arboles llamada ExtraTreeClassifier, o Extremely Random Trees \n",
    "(Árboles Extremadamente Aleatorios). En estos árboles, en lugar de seleccionar \n",
    "en cada nodo la párticion que proporciona la mayor ganancia de información, \n",
    "¡se decide una partición al azar!.\n",
    "'''\n",
    "\n",
    "arbol_aleatorio = tree.ExtraTreeClassifier(max_features=1)\n",
    "arbol_aleatorio.fit(pasajeros.drop(\"superviviente\", axis=1), pasajeros.superviviente)\n",
    "\n",
    "dibujar_arbol(arbol_aleatorio)\n"
   ]
  },
  {
   "cell_type": "code",
   "execution_count": 35,
   "metadata": {},
   "outputs": [
    {
     "data": {
      "text/plain": [
       "0.760124635712871"
      ]
     },
     "execution_count": 35,
     "metadata": {},
     "output_type": "execute_result"
    }
   ],
   "source": [
    "\n",
    "cross_val_score(arbol_aleatorio, pasajeros.drop(\"superviviente\", axis=1), \n",
    "                pasajeros.superviviente, scoring=\"roc_auc\",\n",
    "                cv=10).mean()"
   ]
  },
  {
   "cell_type": "code",
   "execution_count": null,
   "metadata": {},
   "outputs": [],
   "source": []
  }
 ],
 "metadata": {
  "kernelspec": {
   "display_name": "Python 3",
   "language": "python",
   "name": "python3"
  },
  "language_info": {
   "codemirror_mode": {
    "name": "ipython",
    "version": 3
   },
   "file_extension": ".py",
   "mimetype": "text/x-python",
   "name": "python",
   "nbconvert_exporter": "python",
   "pygments_lexer": "ipython3",
   "version": "3.8.10"
  }
 },
 "nbformat": 4,
 "nbformat_minor": 2
}
