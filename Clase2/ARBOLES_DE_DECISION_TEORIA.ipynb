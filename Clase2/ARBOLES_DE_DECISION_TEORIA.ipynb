{
 "cells": [
  {
   "cell_type": "markdown",
   "metadata": {},
   "source": [
    "# Árboles de decisión\n",
    "\n",
    "Todos hemos visto ejemplos de árboles de decisión:\n",
    "\n",
    "<img src=\"ml53.png\">\n",
    "\n",
    "## Partes\n",
    "\n",
    "<img src=\"ml54.png\">"
   ]
  },
  {
   "cell_type": "markdown",
   "metadata": {},
   "source": [
    "## ¿Cómo generamos árboles de decisión? \n",
    "\n",
    "Los árboles de decisión son algoritmos inductivos. Es decir, aprende patrones directamente de ejemplos. \n",
    "\n",
    "Algunos de los algoritmos mas usuales son:\n",
    "\n",
    "* Hunt, en el cual se basan los siguientes.\n",
    "\n",
    "* CART\n",
    "\n",
    "* ID3\n",
    "\n",
    "* C4.5\n",
    "\n",
    "* SliQ y SPRINT para tablas muy grandes\n",
    "\n",
    "## Algoritmo de Hunt\n",
    "\n",
    "Es un algoritmo inductivo, recursivo y oportunista que busca un mínimo local:\n",
    "\n",
    "* **Inductivo.** Se genera directamente basado en ejemplos.\n",
    "\n",
    "* **Recursivo.** Repite el proceso varias veces.\n",
    "\n",
    "* **Oportunista.** En cada paso toma la decisión mas favorable sin pensar en pasos anteriores o futuros.\n",
    "\n",
    "La solución encuentra una solución óptima (minimiza el error) localmente. \n",
    "\n",
    "Funciona partiendo los datos de entrenamiento en grupos cada vez mas pequeños.\n",
    "\n",
    "Para un nodo **T** que tiene un conjunto de elementos **D_T**:\n",
    "\n",
    "- Si todos los elementos de **T** son de la misma clase, dicho nodo es una hoja de esa clase. \n",
    "- Si no lo son, se aplica un criterio **S** que parte **D_T** en subgrupos. Para cada salida del criterio de partición se crea un nodo *hijo* de **T** y los elementos de **D_T** se reparten entre estos nodos hijos.\n",
    "- Repetimos el proceso para cada nodo hijo.\n",
    "\n",
    "Hay varias maneras de de partir un conjunto de elementos en un nodo. El objetivo general en cada paso es maximizar la **pureza** (una partición es 100% pura si todos los elementos en cada subnodo son de la misma clase).\n",
    "\n"
   ]
  },
  {
   "cell_type": "markdown",
   "metadata": {},
   "source": [
    "Vivienda|Estado civil|Salario|Impago\n",
    ":--:|:--:|:--:|:--:\n",
    "Sí|Soltero|125|No\n",
    "No|Casado|100|No\n",
    "No|Soltero|70|No\n",
    "Sí|Casado|120|No\n",
    "No|Divorciado|95|Sí\n",
    "No|Casado|60|No\n",
    "Sí|Divorciado|220|No\n",
    "No|Soltero|85|Sí\n",
    "No|Casado|75|No\n",
    "No|Soltero|90|Sí\n",
    "\n"
   ]
  },
  {
   "cell_type": "markdown",
   "metadata": {},
   "source": [
    "<img src=\"ml55.png\">\n",
    "<img src=\"ml56.png\">\n",
    "<img src=\"ml57.png\">\n",
    "<img src=\"ml58.png\">"
   ]
  },
  {
   "cell_type": "markdown",
   "metadata": {},
   "source": [
    "## Criterio de partición\n",
    "\n",
    "Un criterio de partición de una generación de árboles debe responder a las siguientes preguntas:\n",
    "* **¿Cómo separamos los elementos en cada paso?**\n",
    "* **¿Cuándo dejamos de separar elementos?** En teoría podríamos seguir separando hasta que la pureza de cada hoja fuera 1, pero en la práctica esto genera árboles muy complejos y sobreajustados (pues llegaría a memorizar cada observación en una hoja distinta).\n",
    "\n",
    "Para un nodo en concreto, el algoritmo prueba, para cada variable, todas las combinaciones posibles. Hay muchas maneras de hacer particiones.\n",
    "\n",
    "<img src=\"ml59.png\">"
   ]
  },
  {
   "cell_type": "markdown",
   "metadata": {},
   "source": [
    "## ¿Qué partición elegimos?\n",
    "\n",
    "Elegiremos aquella que maximice la pureza respecto del nodo padre. A este criterio se le llama **ganancia de información (information gain)**. Para calcularla, usamos alguna de las siguientes mediciones de pureza:\n",
    "\n",
    "$$Entropy(t)=-\\sum_{i=0}^{c-1}p(i|t)\\log_2p(i|t)$$\n",
    "$$Gini(t)=1-\\sum_{i=0}^{c-1}p(i|t)^2$$\n",
    "$$Clasification\\,error(t)=1-\\max_{i}p(i|t)$$"
   ]
  },
  {
   "cell_type": "markdown",
   "metadata": {},
   "source": [
    "**Ejemplo con entropía**\n",
    "\n",
    "Calculamos la entropía de la raíz\n",
    "<img src=\"ml55.png\">\n",
    "<img src=\"ml60.png\">\n",
    "\n",
    "Para cada posible nodo hijo, calculamos la entropía de dicho nodo. \n",
    "\n",
    "Por ejemplo, probamos primero para **Vivienda en propiedad**:\n",
    "<img src=\"ml61.png\">\n",
    "\n",
    "Ahora probamos para **Estado civil**:\n",
    "<img src=\"ml62.png\">\n",
    "\n",
    "E incluso podemos tomar estado civil con otra parición:\n",
    "<img src=\"ml63.png\">"
   ]
  },
  {
   "cell_type": "markdown",
   "metadata": {},
   "source": [
    "## ¿Cuándo paramos de crear particiones?\n",
    "\n",
    "<img src=\"ml64.png\">"
   ]
  },
  {
   "cell_type": "code",
   "execution_count": 4,
   "metadata": {},
   "outputs": [
    {
     "data": {
      "text/html": [
       "<div>\n",
       "<style scoped>\n",
       "    .dataframe tbody tr th:only-of-type {\n",
       "        vertical-align: middle;\n",
       "    }\n",
       "\n",
       "    .dataframe tbody tr th {\n",
       "        vertical-align: top;\n",
       "    }\n",
       "\n",
       "    .dataframe thead th {\n",
       "        text-align: right;\n",
       "    }\n",
       "</style>\n",
       "<table border=\"1\" class=\"dataframe\">\n",
       "  <thead>\n",
       "    <tr style=\"text-align: right;\">\n",
       "      <th></th>\n",
       "      <th>Edad</th>\n",
       "      <th>Altura</th>\n",
       "      <th>Juega al Fútbol</th>\n",
       "    </tr>\n",
       "  </thead>\n",
       "  <tbody>\n",
       "    <tr>\n",
       "      <th>0</th>\n",
       "      <td>15</td>\n",
       "      <td>150</td>\n",
       "      <td>1</td>\n",
       "    </tr>\n",
       "    <tr>\n",
       "      <th>1</th>\n",
       "      <td>20</td>\n",
       "      <td>180</td>\n",
       "      <td>0</td>\n",
       "    </tr>\n",
       "    <tr>\n",
       "      <th>2</th>\n",
       "      <td>18</td>\n",
       "      <td>165</td>\n",
       "      <td>1</td>\n",
       "    </tr>\n",
       "    <tr>\n",
       "      <th>3</th>\n",
       "      <td>22</td>\n",
       "      <td>175</td>\n",
       "      <td>1</td>\n",
       "    </tr>\n",
       "    <tr>\n",
       "      <th>4</th>\n",
       "      <td>16</td>\n",
       "      <td>160</td>\n",
       "      <td>0</td>\n",
       "    </tr>\n",
       "  </tbody>\n",
       "</table>\n",
       "</div>"
      ],
      "text/plain": [
       "   Edad  Altura  Juega al Fútbol\n",
       "0    15     150                1\n",
       "1    20     180                0\n",
       "2    18     165                1\n",
       "3    22     175                1\n",
       "4    16     160                0"
      ]
     },
     "execution_count": 4,
     "metadata": {},
     "output_type": "execute_result"
    }
   ],
   "source": [
    "import numpy as np\n",
    "import pandas as pd\n",
    "\n",
    "# Datos de ejemplo\n",
    "edad = np.array([15, 20, 18, 22, 16])\n",
    "altura = np.array([150, 180, 165, 175, 160])\n",
    "juega_futbol = np.array(['Sí', 'No', 'Sí', 'Sí', 'No'])\n",
    "\n",
    "# Crear un DataFrame para facilitar el manejo de los datos\n",
    "df = pd.DataFrame({'Edad': edad, 'Altura': altura, 'Juega al Fútbol': juega_futbol})\n",
    "\n",
    "# Mapear 'Sí' a 1 y 'No' a 0 en la columna 'Juega al Fútbol'\n",
    "df['Juega al Fútbol'] = df['Juega al Fútbol'].map({'Sí': 1, 'No': 0})\n",
    "df"
   ]
  },
  {
   "cell_type": "code",
   "execution_count": 5,
   "metadata": {},
   "outputs": [
    {
     "name": "stdout",
     "output_type": "stream",
     "text": [
      "Índice de Gini para \"Edad\": 0.4\n",
      "Índice de Gini para \"Altura\": 0.3\n"
     ]
    }
   ],
   "source": [
    "\n",
    "def calculate_gini_index(feature_values, target_values):\n",
    "    # Obtener valores únicos de la característica\n",
    "    unique_values = np.unique(feature_values)\n",
    "    \n",
    "    gini_index = float('inf')  # Inicializar con infinito para encontrar el  nos permite difinir que siempre se tomar al minimo\n",
    "    \n",
    "    for value in unique_values:\n",
    "        # Dividir los datos en dos conjuntos\n",
    "        left_subset = target_values[feature_values <= value]\n",
    "        right_subset = target_values[feature_values > value]\n",
    "        \n",
    "        # Calcular la proporción de cada clase en ambos conjuntos\n",
    "        left_proportions = np.bincount(left_subset) / len(left_subset)\n",
    "        right_proportions = np.bincount(right_subset) / len(right_subset)\n",
    "        \n",
    "        # Calcular el índice de Gini para este umbral y característica\n",
    "        gini_left = 1 - sum(left_proportions**2)\n",
    "        gini_right = 1 - sum(right_proportions**2)\n",
    "        \n",
    "        # Calcular el índice ponderado por el tamaño de los conjuntos\n",
    "        weighted_gini = (len(left_subset) * gini_left + len(right_subset) * gini_right) / len(target_values)\n",
    "        \n",
    "        # Actualizar el índice de Gini mínimo\n",
    "        if weighted_gini < gini_index:\n",
    "            gini_index = weighted_gini\n",
    "    \n",
    "    return gini_index\n",
    "\n",
    "# Calcular el índice de Gini para la característica 'Edad'\n",
    "gini_edad = calculate_gini_index(df['Edad'].values, df['Juega al Fútbol'].values)\n",
    "print(f'Índice de Gini para \"Edad\": {gini_edad}')\n",
    "\n",
    "# Calcular el índice de Gini para la característica 'Altura'\n",
    "gini_altura = calculate_gini_index(df['Altura'].values, df['Juega al Fútbol'].values)\n",
    "print(f'Índice de Gini para \"Altura\": {gini_altura}')\n"
   ]
  },
  {
   "cell_type": "code",
   "execution_count": null,
   "metadata": {},
   "outputs": [],
   "source": []
  }
 ],
 "metadata": {
  "kernelspec": {
   "display_name": "Python 3 (ipykernel)",
   "language": "python",
   "name": "python3"
  },
  "language_info": {
   "codemirror_mode": {
    "name": "ipython",
    "version": 3
   },
   "file_extension": ".py",
   "mimetype": "text/x-python",
   "name": "python",
   "nbconvert_exporter": "python",
   "pygments_lexer": "ipython3",
   "version": "3.8.10"
  }
 },
 "nbformat": 4,
 "nbformat_minor": 4
}
